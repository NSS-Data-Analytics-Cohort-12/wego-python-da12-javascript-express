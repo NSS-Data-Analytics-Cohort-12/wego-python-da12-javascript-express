{
 "cells": [
  {
   "cell_type": "markdown",
   "id": "8b5b757c",
   "metadata": {},
   "source": [
    "## WeGo Data Introduction"
   ]
  },
  {
   "cell_type": "code",
   "execution_count": 119,
   "id": "eda20091",
   "metadata": {},
   "outputs": [],
   "source": [
    "import pandas as pd\n",
    "import seaborn as sns\n",
    "import matplotlib.pyplot as plt \n",
    "import numpy as np"
   ]
  },
  {
   "cell_type": "code",
   "execution_count": 16,
   "id": "94a27296",
   "metadata": {},
   "outputs": [
    {
     "name": "stderr",
     "output_type": "stream",
     "text": [
      "<>:2: SyntaxWarning: invalid escape sequence '\\D'\n",
      "<>:2: SyntaxWarning: invalid escape sequence '\\D'\n",
      "C:\\Users\\NA\\AppData\\Local\\Temp\\ipykernel_13344\\1061972442.py:2: SyntaxWarning: invalid escape sequence '\\D'\n",
      "  wego = pd.read_csv(\"C:\\DA12\\Projects\\wego-python-da12-javascript-express\\data\\Headway Data, 8-1-2023 to 9-30-2023.csv\")\n"
     ]
    },
    {
     "data": {
      "text/html": [
       "<div>\n",
       "<style scoped>\n",
       "    .dataframe tbody tr th:only-of-type {\n",
       "        vertical-align: middle;\n",
       "    }\n",
       "\n",
       "    .dataframe tbody tr th {\n",
       "        vertical-align: top;\n",
       "    }\n",
       "\n",
       "    .dataframe thead th {\n",
       "        text-align: right;\n",
       "    }\n",
       "</style>\n",
       "<table border=\"1\" class=\"dataframe\">\n",
       "  <thead>\n",
       "    <tr style=\"text-align: right;\">\n",
       "      <th></th>\n",
       "      <th>CALENDAR_ID</th>\n",
       "      <th>SERVICE_ABBR</th>\n",
       "      <th>ADHERENCE_ID</th>\n",
       "      <th>DATE</th>\n",
       "      <th>ROUTE_ABBR</th>\n",
       "      <th>BLOCK_ABBR</th>\n",
       "      <th>OPERATOR</th>\n",
       "      <th>TRIP_ID</th>\n",
       "      <th>OVERLOAD_ID</th>\n",
       "      <th>ROUTE_DIRECTION_NAME</th>\n",
       "      <th>...</th>\n",
       "      <th>ACTUAL_HDWY</th>\n",
       "      <th>HDWY_DEV</th>\n",
       "      <th>ADJUSTED_EARLY_COUNT</th>\n",
       "      <th>ADJUSTED_LATE_COUNT</th>\n",
       "      <th>ADJUSTED_ONTIME_COUNT</th>\n",
       "      <th>STOP_CANCELLED</th>\n",
       "      <th>PREV_SCHED_STOP_CANCELLED</th>\n",
       "      <th>IS_RELIEF</th>\n",
       "      <th>DWELL_IN_MINS</th>\n",
       "      <th>SCHEDULED_LAYOVER_MINUTES</th>\n",
       "    </tr>\n",
       "  </thead>\n",
       "  <tbody>\n",
       "    <tr>\n",
       "      <th>0</th>\n",
       "      <td>120230801</td>\n",
       "      <td>1</td>\n",
       "      <td>99457890</td>\n",
       "      <td>2023-08-01</td>\n",
       "      <td>22</td>\n",
       "      <td>2200</td>\n",
       "      <td>1040</td>\n",
       "      <td>345104</td>\n",
       "      <td>0</td>\n",
       "      <td>TO DOWNTOWN</td>\n",
       "      <td>...</td>\n",
       "      <td>NaN</td>\n",
       "      <td>NaN</td>\n",
       "      <td>0</td>\n",
       "      <td>0</td>\n",
       "      <td>1</td>\n",
       "      <td>0</td>\n",
       "      <td>0.0</td>\n",
       "      <td>0</td>\n",
       "      <td>6.500000</td>\n",
       "      <td>NaN</td>\n",
       "    </tr>\n",
       "    <tr>\n",
       "      <th>1</th>\n",
       "      <td>120230801</td>\n",
       "      <td>1</td>\n",
       "      <td>99457891</td>\n",
       "      <td>2023-08-01</td>\n",
       "      <td>22</td>\n",
       "      <td>2200</td>\n",
       "      <td>1040</td>\n",
       "      <td>345104</td>\n",
       "      <td>0</td>\n",
       "      <td>TO DOWNTOWN</td>\n",
       "      <td>...</td>\n",
       "      <td>NaN</td>\n",
       "      <td>NaN</td>\n",
       "      <td>0</td>\n",
       "      <td>0</td>\n",
       "      <td>1</td>\n",
       "      <td>0</td>\n",
       "      <td>0.0</td>\n",
       "      <td>0</td>\n",
       "      <td>0.000000</td>\n",
       "      <td>NaN</td>\n",
       "    </tr>\n",
       "    <tr>\n",
       "      <th>2</th>\n",
       "      <td>120230801</td>\n",
       "      <td>1</td>\n",
       "      <td>99457892</td>\n",
       "      <td>2023-08-01</td>\n",
       "      <td>22</td>\n",
       "      <td>2200</td>\n",
       "      <td>1040</td>\n",
       "      <td>345104</td>\n",
       "      <td>0</td>\n",
       "      <td>TO DOWNTOWN</td>\n",
       "      <td>...</td>\n",
       "      <td>NaN</td>\n",
       "      <td>NaN</td>\n",
       "      <td>0</td>\n",
       "      <td>0</td>\n",
       "      <td>1</td>\n",
       "      <td>0</td>\n",
       "      <td>0.0</td>\n",
       "      <td>0</td>\n",
       "      <td>0.000000</td>\n",
       "      <td>NaN</td>\n",
       "    </tr>\n",
       "    <tr>\n",
       "      <th>3</th>\n",
       "      <td>120230801</td>\n",
       "      <td>1</td>\n",
       "      <td>99457893</td>\n",
       "      <td>2023-08-01</td>\n",
       "      <td>22</td>\n",
       "      <td>2200</td>\n",
       "      <td>1040</td>\n",
       "      <td>345104</td>\n",
       "      <td>0</td>\n",
       "      <td>TO DOWNTOWN</td>\n",
       "      <td>...</td>\n",
       "      <td>NaN</td>\n",
       "      <td>NaN</td>\n",
       "      <td>0</td>\n",
       "      <td>0</td>\n",
       "      <td>1</td>\n",
       "      <td>0</td>\n",
       "      <td>NaN</td>\n",
       "      <td>0</td>\n",
       "      <td>0.000000</td>\n",
       "      <td>NaN</td>\n",
       "    </tr>\n",
       "    <tr>\n",
       "      <th>4</th>\n",
       "      <td>120230801</td>\n",
       "      <td>1</td>\n",
       "      <td>99457894</td>\n",
       "      <td>2023-08-01</td>\n",
       "      <td>22</td>\n",
       "      <td>2200</td>\n",
       "      <td>1040</td>\n",
       "      <td>345105</td>\n",
       "      <td>0</td>\n",
       "      <td>FROM DOWNTOWN</td>\n",
       "      <td>...</td>\n",
       "      <td>NaN</td>\n",
       "      <td>NaN</td>\n",
       "      <td>0</td>\n",
       "      <td>0</td>\n",
       "      <td>1</td>\n",
       "      <td>0</td>\n",
       "      <td>0.0</td>\n",
       "      <td>0</td>\n",
       "      <td>12.866666</td>\n",
       "      <td>5.0</td>\n",
       "    </tr>\n",
       "  </tbody>\n",
       "</table>\n",
       "<p>5 rows × 30 columns</p>\n",
       "</div>"
      ],
      "text/plain": [
       "   CALENDAR_ID  SERVICE_ABBR  ADHERENCE_ID        DATE  ROUTE_ABBR  \\\n",
       "0    120230801             1      99457890  2023-08-01          22   \n",
       "1    120230801             1      99457891  2023-08-01          22   \n",
       "2    120230801             1      99457892  2023-08-01          22   \n",
       "3    120230801             1      99457893  2023-08-01          22   \n",
       "4    120230801             1      99457894  2023-08-01          22   \n",
       "\n",
       "   BLOCK_ABBR  OPERATOR  TRIP_ID  OVERLOAD_ID ROUTE_DIRECTION_NAME  ...  \\\n",
       "0        2200      1040   345104            0          TO DOWNTOWN  ...   \n",
       "1        2200      1040   345104            0          TO DOWNTOWN  ...   \n",
       "2        2200      1040   345104            0          TO DOWNTOWN  ...   \n",
       "3        2200      1040   345104            0          TO DOWNTOWN  ...   \n",
       "4        2200      1040   345105            0        FROM DOWNTOWN  ...   \n",
       "\n",
       "  ACTUAL_HDWY  HDWY_DEV  ADJUSTED_EARLY_COUNT  ADJUSTED_LATE_COUNT  \\\n",
       "0         NaN       NaN                     0                    0   \n",
       "1         NaN       NaN                     0                    0   \n",
       "2         NaN       NaN                     0                    0   \n",
       "3         NaN       NaN                     0                    0   \n",
       "4         NaN       NaN                     0                    0   \n",
       "\n",
       "   ADJUSTED_ONTIME_COUNT STOP_CANCELLED PREV_SCHED_STOP_CANCELLED IS_RELIEF  \\\n",
       "0                      1              0                       0.0         0   \n",
       "1                      1              0                       0.0         0   \n",
       "2                      1              0                       0.0         0   \n",
       "3                      1              0                       NaN         0   \n",
       "4                      1              0                       0.0         0   \n",
       "\n",
       "   DWELL_IN_MINS  SCHEDULED_LAYOVER_MINUTES  \n",
       "0       6.500000                        NaN  \n",
       "1       0.000000                        NaN  \n",
       "2       0.000000                        NaN  \n",
       "3       0.000000                        NaN  \n",
       "4      12.866666                        5.0  \n",
       "\n",
       "[5 rows x 30 columns]"
      ]
     },
     "execution_count": 16,
     "metadata": {},
     "output_type": "execute_result"
    }
   ],
   "source": [
    "# wego = pd.read_csv(\"../data/Headway Data, 8-1-2023 to 9-30-2023.csv\")\n",
    "wego = pd.read_csv(\"C:\\DA12\\Projects\\wego-python-da12-javascript-express\\data\\Headway Data, 8-1-2023 to 9-30-2023.csv\")\n",
    "\n",
    "wego.head()"
   ]
  },
  {
   "cell_type": "markdown",
   "id": "76d385ed-be6f-44d5-ba50-c55e665a929c",
   "metadata": {},
   "source": [
    "#### 1. What is the overall on-time performance, and what do the overall distributions of adherence and headway deviation look like? \r\n"
   ]
  },
  {
   "cell_type": "code",
   "execution_count": 67,
   "id": "ffd1c187-46d7-4eea-bf09-59f13a641759",
   "metadata": {},
   "outputs": [],
   "source": [
    "early = wego[wego['ADJUSTED_EARLY_COUNT'] == 1]\n",
    "late = wego[wego['ADJUSTED_LATE_COUNT'] == 1]\n",
    "on_time = wego[wego['ADJUSTED_ONTIME_COUNT'] == 1]"
   ]
  },
  {
   "cell_type": "code",
   "execution_count": 47,
   "id": "d79d76c5-da8c-4c72-b079-3b7f8be0c25b",
   "metadata": {},
   "outputs": [
    {
     "data": {
      "image/png": "[encoded data removed]",
      "text/plain": [
       "<Figure size 640x480 with 1 Axes>"
      ]
     },
     "metadata": {},
     "output_type": "display_data"
    }
   ],
   "source": [
    "sns.barplot(x=wego['ROUTE_ABBR'], y=wego['ADHERENCE'])\n",
    "plt.show()"
   ]
  },
  {
   "cell_type": "code",
   "execution_count": 61,
   "id": "ba589c89-fc32-4d7d-aef9-2f9da0eb1cdf",
   "metadata": {},
   "outputs": [
    {
     "data": {
      "image/png": "[encoded data removed]",
      "text/plain": [
       "<Figure size 640x480 with 1 Axes>"
      ]
     },
     "metadata": {},
     "output_type": "display_data"
    }
   ],
   "source": [
    "sns.barplot(x=early['ROUTE_ABBR'], y=early['ADHERENCE'])\n",
    "plt.show()"
   ]
  },
  {
   "cell_type": "code",
   "execution_count": 63,
   "id": "2c71e417-2299-434c-b710-ba84120ae031",
   "metadata": {},
   "outputs": [
    {
     "data": {
      "image/png": "[encoded data removed]",
      "text/plain": [
       "<Figure size 640x480 with 1 Axes>"
      ]
     },
     "metadata": {},
     "output_type": "display_data"
    }
   ],
   "source": [
    "sns.barplot(x=late['ROUTE_ABBR'], y=late['ADHERENCE'])\n",
    "plt.show()"
   ]
  },
  {
   "cell_type": "code",
   "execution_count": 69,
   "id": "b83dcb5e-ff8d-4780-8977-8935ea77e8ef",
   "metadata": {},
   "outputs": [
    {
     "data": {
      "image/png": "[encoded data removed]",
      "text/plain": [
       "<Figure size 640x480 with 1 Axes>"
      ]
     },
     "metadata": {},
     "output_type": "display_data"
    }
   ],
   "source": [
    "sns.barplot(x=on_time['ROUTE_ABBR'], y=on_time['ADHERENCE'])\n",
    "plt.show()"
   ]
  },
  {
   "cell_type": "code",
   "execution_count": 71,
   "id": "3461d503-b9ec-40dc-a85c-db78ebbb1850",
   "metadata": {},
   "outputs": [
    {
     "data": {
      "image/png": "[encoded data removed]",
      "text/plain": [
       "<Figure size 640x480 with 1 Axes>"
      ]
     },
     "metadata": {},
     "output_type": "display_data"
    }
   ],
   "source": [
    "sns.barplot(x=wego['ROUTE_ABBR'], y=wego['ADJUSTED_EARLY_COUNT'])\n",
    "plt.show()"
   ]
  },
  {
   "cell_type": "code",
   "execution_count": 191,
   "id": "51decad8-e3eb-40ac-b96c-619c447a385a",
   "metadata": {},
   "outputs": [
    {
     "ename": "SyntaxError",
     "evalue": "illegal target for annotation (3964872748.py, line 3)",
     "output_type": "error",
     "traceback": [
      "\u001b[1;36m  Cell \u001b[1;32mIn[191], line 3\u001b[1;36m\u001b[0m\n\u001b[1;33m    10:47\u001b[0m\n\u001b[1;37m    ^\u001b[0m\n\u001b[1;31mSyntaxError\u001b[0m\u001b[1;31m:\u001b[0m illegal target for annotation\n"
     ]
    }
   ],
   "source": [
    "# jon's code\n",
    "sns.barplot(x=we_go1['ROUTE_ABBR'], y=we_go1['ADHERENCE'])\n",
    "10:47\n",
    "ax = sns.scatterplot(data=we_go_scatter,\n",
    "                     x='ROUTE_ABBR',\n",
    "                     y='ADHERENCE',\n",
    "                     hue='ADJUSTED_ONTIME_COUNT',\n",
    "                     palette='husl')\n",
    "# Adding text annotations\n",
    "for i in range(we_go_scatter.shape[0]):\n",
    "    plt.text(x=we_go_scatter['ROUTE_ABBR'][i] + 1,\n",
    "             y=we_go_scatter['ADHERENCE'][i],\n",
    "             s=we_go_scatter['ADJUSTED_ONTIME_COUNT'][i],\n",
    "             fontsize=7,\n",
    "             ha='center',\n",
    "             va='bottom')\n",
    "# Setting the minimum value for the y-axis\n",
    "ax.set_ylim(bottom=we_go_scatter['ADHERENCE'].min())\n",
    "plt.legend(bbox_to_anchor=(1.01, .95), loc='upper left', borderaxespad=0.)\n",
    "plt.title('title')\n",
    "plt.xlabel('x label')\n",
    "plt.ylabel('y label')\n",
    "# plt.savefig(r'C:\\Users\\johnc\\Desktop\\DA12\\Python\\opioids_deaths11.png', bbox_inches='tight')\n",
    "plt.show()"
   ]
  },
  {
   "cell_type": "code",
   "execution_count": 189,
   "id": "6802eaad-1af7-4830-a28d-3d40ed27417e",
   "metadata": {},
   "outputs": [
    {
     "data": {
      "text/plain": [
       "\"\\nax = sns.histplot(data=wego, x='ADHERENCE', bins=800)\\nfor patch in ax.patches:\\n    height = patch.get_height()\\n    if height > 0:  # Add labels only to non-zero bins\\n        ax.text(patch.get_x() + patch.get_width() / 2,  # X position\\n                height,  # Y position\\n                int(height),  # Label text (convert count to int)\\n                ha='center', va='bottom')  # Center the text\\nplt.xlim(-40, 10)\\nplt.show()\\n\""
      ]
     },
     "execution_count": 189,
     "metadata": {},
     "output_type": "execute_result"
    }
   ],
   "source": [
    "'''\n",
    "ax = sns.histplot(data=wego, x='ADHERENCE', bins=800)\n",
    "for patch in ax.patches:\n",
    "    height = patch.get_height()\n",
    "    if height > 0:  # Add labels only to non-zero bins\n",
    "        ax.text(patch.get_x() + patch.get_width() / 2,  # X position\n",
    "                height,  # Y position\n",
    "                int(height),  # Label text (convert count to int)\n",
    "                ha='center', va='bottom')  # Center the text\n",
    "plt.xlim(-40, 10)\n",
    "plt.show()\n",
    "'''"
   ]
  },
  {
   "cell_type": "code",
   "execution_count": 187,
   "id": "9dd81852-9b5c-4b4c-963c-415e5ea262e8",
   "metadata": {},
   "outputs": [
    {
     "data": {
      "text/plain": [
       "\"\\nplt.figure(figsize=(12, 6))  # Adjust the size as needed, e.g., 10 inches wide, 6 inches tall\\ntime_bins = np.arange(-40, 10, 1)  # Creates bins from -40 to 10 in intervals of 1 min \\nax = sns.histplot(data=wego, x='ADHERENCE', bins=time_bins, hue=wego['ADJUSTED_ONTIME_COUNT'])\\n\\nplt.xlim(-40, 10)\\nplt.title('Distribution of Adherence')\\nplt.xlabel('Adherence (minutes)')\\nplt.ylabel('Count')\\nplt.show()\\n\""
      ]
     },
     "execution_count": 187,
     "metadata": {},
     "output_type": "execute_result"
    }
   ],
   "source": [
    "'''\n",
    "plt.figure(figsize=(12, 6))  # Adjust the size as needed, e.g., 10 inches wide, 6 inches tall\n",
    "time_bins = np.arange(-40, 10, 1)  # Creates bins from -40 to 10 in intervals of 1 min \n",
    "ax = sns.histplot(data=wego, x='ADHERENCE', bins=time_bins, hue=wego['ADJUSTED_ONTIME_COUNT'])\n",
    "\n",
    "plt.xlim(-40, 10)\n",
    "plt.title('Distribution of Adherence')\n",
    "plt.xlabel('Adherence (minutes)')\n",
    "plt.ylabel('Count')\n",
    "plt.show()\n",
    "'''"
   ]
  },
  {
   "cell_type": "code",
   "execution_count": 1,
   "id": "36203696-391b-4a84-b3dd-f823142c2162",
   "metadata": {},
   "outputs": [],
   "source": [
    "def plot_distribution(data):\n",
    "    plt.figure(figsize=(12, 6))\n",
    "    time_bins = np.arange(-40, 10, 1)  # Creates bins from -40 to 10 in intervals of 1 min\n",
    "    ax = sns.histplot(data=data, x='ADHERENCE', bins=time_bins, color='gray')\n",
    "    \n",
    "    # Iterate over the bars (patches) to set colors based on the bin edges\n",
    "    for patch in ax.patches:\n",
    "        bin_start = patch.get_x()\n",
    "        bin_end = patch.get_x() + patch.get_width()\n",
    "        height = patch.get_height()\n",
    "        if bin_end <= -6:\n",
    "            patch.set_facecolor('slategrey')  # Color for bins ending before 6 minutes\n",
    "        elif bin_start >= 1:\n",
    "            patch.set_facecolor('slategrey')   # Color for bins starting after 1 minute\n",
    "        else:\n",
    "            patch.set_facecolor('royalblue')  # Default color for bins in between\n",
    "    \n",
    "    plt.xlim(-40, 10)\n",
    "    plt.title('Distribution of Adherence')\n",
    "    plt.xlabel('Adherence (minutes)')\n",
    "    plt.ylabel('Count')\n",
    "    tick_locations = np.arange(-40, 11, 5)  # Set tick marks every 1 unit from -40 to 10\n",
    "    plt.xticks(ticks=tick_locations)\n",
    "    plt.show()  "
   ]
  },
  {
   "cell_type": "code",
   "execution_count": 251,
   "id": "6f0e0387-4dff-4452-aa2a-121457b91efc",
   "metadata": {},
   "outputs": [
    {
     "data": {
      "image/png": "[encoded data removed]",
      "text/plain": [
       "<Figure size 1200x600 with 1 Axes>"
      ]
     },
     "metadata": {},
     "output_type": "display_data"
    }
   ],
   "source": [
    "route_56 = wego[wego['ROUTE_ABBR'] == 56]\n",
    "plot_distribution(route_56)"
   ]
  },
  {
   "cell_type": "code",
   "execution_count": 195,
   "id": "ca38da1d-1967-4667-9660-edbdc4c1adaf",
   "metadata": {},
   "outputs": [
    {
     "data": {
      "image/png": "[encoded data removed]",
      "text/plain": [
       "<Figure size 1200x600 with 1 Axes>"
      ]
     },
     "metadata": {},
     "output_type": "display_data"
    }
   ],
   "source": [
    "route_55 = wego[wego['ROUTE_ABBR'] == 55]\n",
    "plt.figure(figsize=(12, 6))\n",
    "time_bins = np.arange(-40, 10, 1)  # Creates bins from -40 to 10 in intervals of 1 min\n",
    "ax = sns.histplot(data=route_55, x='ADHERENCE', bins=time_bins, color='gray')\n",
    "\n",
    "# Iterate over the bars (patches) to set colors based on the bin edges\n",
    "for patch in ax.patches:\n",
    "    bin_start = patch.get_x()\n",
    "    bin_end = patch.get_x() + patch.get_width()\n",
    "    height = patch.get_height()\n",
    "    if bin_end <= -6:\n",
    "        patch.set_facecolor('slategrey')  # Color for bins ending before 6 minutes\n",
    "    elif bin_start >= 1:\n",
    "        patch.set_facecolor('slategrey')   # Color for bins starting after 1 minute\n",
    "    else:\n",
    "        patch.set_facecolor('royalblue')  # Default color for bins in between\n",
    "\n",
    "plt.xlim(-40, 10)\n",
    "plt.title('Distribution of Adherence')\n",
    "plt.xlabel('Adherence (minutes)')\n",
    "plt.ylabel('Count')\n",
    "tick_locations = np.arange(-40, 11, 5)  # Set tick marks every 1 unit from -40 to 10\n",
    "plt.xticks(ticks=tick_locations)\n",
    "plt.show()"
   ]
  },
  {
   "cell_type": "code",
   "execution_count": 3,
   "id": "c7786ced-eb19-4a06-862b-96a15e6f609a",
   "metadata": {},
   "outputs": [],
   "source": [
    "#test"
   ]
  },
  {
   "cell_type": "code",
   "execution_count": null,
   "id": "b81ede50-4fc9-4916-9303-bfc18ca0e83d",
   "metadata": {},
   "outputs": [],
   "source": []
  },
  {
   "cell_type": "code",
   "execution_count": null,
   "id": "7320233a-de48-4870-a7b1-aec841262f31",
   "metadata": {},
   "outputs": [],
   "source": []
  },
  {
   "cell_type": "code",
   "execution_count": null,
   "id": "3379b685-2e88-4a44-93b6-8f7cf2b2cedd",
   "metadata": {},
   "outputs": [],
   "source": []
  },
  {
   "cell_type": "code",
   "execution_count": null,
   "id": "7e4561ba-f7e3-4804-b81b-9177b8a28448",
   "metadata": {},
   "outputs": [],
   "source": []
  },
  {
   "cell_type": "markdown",
   "id": "0254aa57-1864-4495-8535-ad67c042fd4b",
   "metadata": {},
   "source": [
    "#### 2. How does direction of travel, route, or location affect the headway and on-time performance?\r\n"
   ]
  },
  {
   "cell_type": "code",
   "execution_count": null,
   "id": "eb6f9717-608f-4e60-bf3b-0609a42d1ae6",
   "metadata": {},
   "outputs": [],
   "source": []
  },
  {
   "cell_type": "markdown",
   "id": "9a75ef85-90cb-440a-87bc-2fbec5147fe3",
   "metadata": {},
   "source": [
    "#### 3. How does time of day or day of week affect headway and on-time performance?\r\n"
   ]
  },
  {
   "cell_type": "code",
   "execution_count": null,
   "id": "b6cb9793-841d-4fdf-a533-464d94ea74a7",
   "metadata": {},
   "outputs": [],
   "source": []
  },
  {
   "cell_type": "markdown",
   "id": "176b90b3-f019-4f53-8eed-7f70f939a924",
   "metadata": {},
   "source": [
    "#### 4. How much of a factor does the driver have on headway and on-time performance? The driver is indicated by the OPERATOR variable.\r\n"
   ]
  },
  {
   "cell_type": "code",
   "execution_count": null,
   "id": "255d03e4-1b60-4efd-ba2e-fe568f28b55a",
   "metadata": {},
   "outputs": [],
   "source": []
  },
  {
   "cell_type": "markdown",
   "id": "f55c0c76-32c5-42b5-831a-bd67f38ba3e4",
   "metadata": {},
   "source": [
    "#### 5. Is there any relationship between lateness (ADHERENCE) and headway deviation?\r\n"
   ]
  },
  {
   "cell_type": "code",
   "execution_count": null,
   "id": "35571b46-6bb3-4e00-b8ab-1615ab84d736",
   "metadata": {},
   "outputs": [],
   "source": []
  },
  {
   "cell_type": "markdown",
   "id": "b9356e12-4a03-426d-b8b0-338c10f9fd14",
   "metadata": {},
   "source": [
    "#### 6. How much impact does being late or too spaced out at the first stop have downstream?  \r\n"
   ]
  },
  {
   "cell_type": "code",
   "execution_count": null,
   "id": "10c60980-45d2-4988-a232-e50cf6d9b276",
   "metadata": {},
   "outputs": [],
   "source": []
  },
  {
   "cell_type": "markdown",
   "id": "fa6b57fa-ed30-40cc-b874-442ca976fac6",
   "metadata": {},
   "source": [
    "#### 7. What is the impact of the layover at the start of the trip (the difference between the first stop arrival and departure time)? Does more dwell time at the beginning of a trip lead to more stable headways (lower values for % headway deviation)? Do trips with longer **scheduled** layover time have more stable headway values?  \r\n"
   ]
  },
  {
   "cell_type": "code",
   "execution_count": null,
   "id": "34c2cb4f-3765-456f-b681-988826e7369a",
   "metadata": {},
   "outputs": [],
   "source": []
  },
  {
   "cell_type": "markdown",
   "id": "854fc137-977d-4258-8aa9-ab2db1de152a",
   "metadata": {},
   "source": [
    "#### 8. What is the relationship between distance or time traveled since the start of a given trip and the headway deviation? Does headway become less stable the further along the route the bus has traveled?\r\n"
   ]
  },
  {
   "cell_type": "code",
   "execution_count": null,
   "id": "e31d34f6-0a0e-4b0c-9480-63e5ac1b94c8",
   "metadata": {},
   "outputs": [],
   "source": []
  },
  {
   "cell_type": "code",
   "execution_count": 4,
   "id": "fd801470",
   "metadata": {},
   "outputs": [],
   "source": [
    "#wego.columns"
   ]
  },
  {
   "cell_type": "markdown",
   "id": "9a56c25e",
   "metadata": {},
   "source": [
    "In the data, the bus route can be identified by its ROUTE_ABBR value.  \n",
    "**3:** West End  \n",
    "**7:** Hillsboro  \n",
    "**22:** Bordeaux  \n",
    "**23:** Dickerson Pike  \n",
    "**50:** Charlotte Pike  \n",
    "**52:** Nolensville Pike  \n",
    "**55:** Murfreesboro Pike  \n",
    "**56:** Gallatin Pike"
   ]
  },
  {
   "cell_type": "code",
   "execution_count": 26,
   "id": "3633b09a",
   "metadata": {},
   "outputs": [
    {
     "data": {
      "text/plain": [
       "ROUTE_ABBR\n",
       "3     47162\n",
       "7     18026\n",
       "22    25959\n",
       "23    42108\n",
       "50    43291\n",
       "52    51819\n",
       "55    61944\n",
       "56    60020\n",
       "Name: count, dtype: int64"
      ]
     },
     "execution_count": 26,
     "metadata": {},
     "output_type": "execute_result"
    }
   ],
   "source": [
    "wego['ROUTE_ABBR'].value_counts().sort_index()"
   ]
  },
  {
   "cell_type": "markdown",
   "id": "8e0afb1b",
   "metadata": {},
   "source": [
    "The trip can be identified by the DATE/CALENDAR_ID plus the TRIP_ID.  \n",
    "**Warning:** The TRIP_ID refers to the route and time but will be used across multiple days.\n",
    "\n",
    "The data contains multiple **time points** for each trip. There are more stops along the route than time points, but the time points are the points with specific scheduled times the bus operators must adhere to.\n",
    "\n",
    "The first stop of a trip has a TRIP_EDGE of 1, the last has a TRIP_EDGE of 2, and the intermediate stops are TRIP_EDGE 0. \n",
    "\n",
    "Here is the first trip in the dataset. It was a Bordeaux route (Route 22), scheduled to start at 4:42:00 and end at 5:10:00."
   ]
  },
  {
   "cell_type": "code",
   "execution_count": 18,
   "id": "eda403bc",
   "metadata": {},
   "outputs": [
    {
     "data": {
      "text/html": [
       "<div>\n",
       "<style scoped>\n",
       "    .dataframe tbody tr th:only-of-type {\n",
       "        vertical-align: middle;\n",
       "    }\n",
       "\n",
       "    .dataframe tbody tr th {\n",
       "        vertical-align: top;\n",
       "    }\n",
       "\n",
       "    .dataframe thead th {\n",
       "        text-align: right;\n",
       "    }\n",
       "</style>\n",
       "<table border=\"1\" class=\"dataframe\">\n",
       "  <thead>\n",
       "    <tr style=\"text-align: right;\">\n",
       "      <th></th>\n",
       "      <th>DATE</th>\n",
       "      <th>CALENDAR_ID</th>\n",
       "      <th>TRIP_ID</th>\n",
       "      <th>ROUTE_ABBR</th>\n",
       "      <th>TIME_POINT_ABBR</th>\n",
       "      <th>TRIP_EDGE</th>\n",
       "      <th>SCHEDULED_TIME</th>\n",
       "    </tr>\n",
       "  </thead>\n",
       "  <tbody>\n",
       "    <tr>\n",
       "      <th>0</th>\n",
       "      <td>2023-08-01</td>\n",
       "      <td>120230801</td>\n",
       "      <td>345104</td>\n",
       "      <td>22</td>\n",
       "      <td>MHSP</td>\n",
       "      <td>1</td>\n",
       "      <td>2023-08-01 04:42:00</td>\n",
       "    </tr>\n",
       "    <tr>\n",
       "      <th>1</th>\n",
       "      <td>2023-08-01</td>\n",
       "      <td>120230801</td>\n",
       "      <td>345104</td>\n",
       "      <td>22</td>\n",
       "      <td>ELIZ</td>\n",
       "      <td>0</td>\n",
       "      <td>2023-08-01 04:46:00</td>\n",
       "    </tr>\n",
       "    <tr>\n",
       "      <th>2</th>\n",
       "      <td>2023-08-01</td>\n",
       "      <td>120230801</td>\n",
       "      <td>345104</td>\n",
       "      <td>22</td>\n",
       "      <td>CV23</td>\n",
       "      <td>0</td>\n",
       "      <td>2023-08-01 04:54:00</td>\n",
       "    </tr>\n",
       "    <tr>\n",
       "      <th>3</th>\n",
       "      <td>2023-08-01</td>\n",
       "      <td>120230801</td>\n",
       "      <td>345104</td>\n",
       "      <td>22</td>\n",
       "      <td>MCC5_10</td>\n",
       "      <td>2</td>\n",
       "      <td>2023-08-01 05:10:00</td>\n",
       "    </tr>\n",
       "  </tbody>\n",
       "</table>\n",
       "</div>"
      ],
      "text/plain": [
       "         DATE  CALENDAR_ID  TRIP_ID  ROUTE_ABBR TIME_POINT_ABBR  TRIP_EDGE  \\\n",
       "0  2023-08-01    120230801   345104          22            MHSP          1   \n",
       "1  2023-08-01    120230801   345104          22            ELIZ          0   \n",
       "2  2023-08-01    120230801   345104          22            CV23          0   \n",
       "3  2023-08-01    120230801   345104          22         MCC5_10          2   \n",
       "\n",
       "        SCHEDULED_TIME  \n",
       "0  2023-08-01 04:42:00  \n",
       "1  2023-08-01 04:46:00  \n",
       "2  2023-08-01 04:54:00  \n",
       "3  2023-08-01 05:10:00  "
      ]
     },
     "execution_count": 18,
     "metadata": {},
     "output_type": "execute_result"
    }
   ],
   "source": [
    "wego[['DATE', 'CALENDAR_ID', 'TRIP_ID', 'ROUTE_ABBR', 'TIME_POINT_ABBR', 'TRIP_EDGE', 'SCHEDULED_TIME']].loc[:3]"
   ]
  },
  {
   "cell_type": "markdown",
   "id": "efec124a",
   "metadata": {},
   "source": [
    "Note that the same TRIP_ID appears on the following day."
   ]
  },
  {
   "cell_type": "code",
   "execution_count": 20,
   "id": "cfbcb2ca",
   "metadata": {},
   "outputs": [
    {
     "data": {
      "text/html": [
       "<div>\n",
       "<style scoped>\n",
       "    .dataframe tbody tr th:only-of-type {\n",
       "        vertical-align: middle;\n",
       "    }\n",
       "\n",
       "    .dataframe tbody tr th {\n",
       "        vertical-align: top;\n",
       "    }\n",
       "\n",
       "    .dataframe thead th {\n",
       "        text-align: right;\n",
       "    }\n",
       "</style>\n",
       "<table border=\"1\" class=\"dataframe\">\n",
       "  <thead>\n",
       "    <tr style=\"text-align: right;\">\n",
       "      <th></th>\n",
       "      <th>DATE</th>\n",
       "      <th>ROUTE_ABBR</th>\n",
       "      <th>TRIP_ID</th>\n",
       "      <th>TIME_POINT_ABBR</th>\n",
       "      <th>TRIP_EDGE</th>\n",
       "      <th>ROUTE_DIRECTION_NAME</th>\n",
       "      <th>SCHEDULED_TIME</th>\n",
       "      <th>ROUTE_STOP_SEQUENCE</th>\n",
       "    </tr>\n",
       "  </thead>\n",
       "  <tbody>\n",
       "    <tr>\n",
       "      <th>0</th>\n",
       "      <td>2023-08-01</td>\n",
       "      <td>22</td>\n",
       "      <td>345104</td>\n",
       "      <td>MHSP</td>\n",
       "      <td>1</td>\n",
       "      <td>TO DOWNTOWN</td>\n",
       "      <td>2023-08-01 04:42:00</td>\n",
       "      <td>14.0</td>\n",
       "    </tr>\n",
       "    <tr>\n",
       "      <th>1</th>\n",
       "      <td>2023-08-01</td>\n",
       "      <td>22</td>\n",
       "      <td>345104</td>\n",
       "      <td>ELIZ</td>\n",
       "      <td>0</td>\n",
       "      <td>TO DOWNTOWN</td>\n",
       "      <td>2023-08-01 04:46:00</td>\n",
       "      <td>10.0</td>\n",
       "    </tr>\n",
       "    <tr>\n",
       "      <th>2</th>\n",
       "      <td>2023-08-01</td>\n",
       "      <td>22</td>\n",
       "      <td>345104</td>\n",
       "      <td>CV23</td>\n",
       "      <td>0</td>\n",
       "      <td>TO DOWNTOWN</td>\n",
       "      <td>2023-08-01 04:54:00</td>\n",
       "      <td>5.0</td>\n",
       "    </tr>\n",
       "    <tr>\n",
       "      <th>3</th>\n",
       "      <td>2023-08-01</td>\n",
       "      <td>22</td>\n",
       "      <td>345104</td>\n",
       "      <td>MCC5_10</td>\n",
       "      <td>2</td>\n",
       "      <td>TO DOWNTOWN</td>\n",
       "      <td>2023-08-01 05:10:00</td>\n",
       "      <td>1.0</td>\n",
       "    </tr>\n",
       "    <tr>\n",
       "      <th>6461</th>\n",
       "      <td>2023-08-02</td>\n",
       "      <td>22</td>\n",
       "      <td>345104</td>\n",
       "      <td>MHSP</td>\n",
       "      <td>1</td>\n",
       "      <td>TO DOWNTOWN</td>\n",
       "      <td>2023-08-02 04:42:00</td>\n",
       "      <td>14.0</td>\n",
       "    </tr>\n",
       "    <tr>\n",
       "      <th>6462</th>\n",
       "      <td>2023-08-02</td>\n",
       "      <td>22</td>\n",
       "      <td>345104</td>\n",
       "      <td>ELIZ</td>\n",
       "      <td>0</td>\n",
       "      <td>TO DOWNTOWN</td>\n",
       "      <td>2023-08-02 04:46:00</td>\n",
       "      <td>10.0</td>\n",
       "    </tr>\n",
       "    <tr>\n",
       "      <th>6463</th>\n",
       "      <td>2023-08-02</td>\n",
       "      <td>22</td>\n",
       "      <td>345104</td>\n",
       "      <td>CV23</td>\n",
       "      <td>0</td>\n",
       "      <td>TO DOWNTOWN</td>\n",
       "      <td>2023-08-02 04:54:00</td>\n",
       "      <td>5.0</td>\n",
       "    </tr>\n",
       "    <tr>\n",
       "      <th>6464</th>\n",
       "      <td>2023-08-02</td>\n",
       "      <td>22</td>\n",
       "      <td>345104</td>\n",
       "      <td>MCC5_10</td>\n",
       "      <td>2</td>\n",
       "      <td>TO DOWNTOWN</td>\n",
       "      <td>2023-08-02 05:10:00</td>\n",
       "      <td>1.0</td>\n",
       "    </tr>\n",
       "  </tbody>\n",
       "</table>\n",
       "</div>"
      ],
      "text/plain": [
       "            DATE  ROUTE_ABBR  TRIP_ID TIME_POINT_ABBR  TRIP_EDGE  \\\n",
       "0     2023-08-01          22   345104            MHSP          1   \n",
       "1     2023-08-01          22   345104            ELIZ          0   \n",
       "2     2023-08-01          22   345104            CV23          0   \n",
       "3     2023-08-01          22   345104         MCC5_10          2   \n",
       "6461  2023-08-02          22   345104            MHSP          1   \n",
       "6462  2023-08-02          22   345104            ELIZ          0   \n",
       "6463  2023-08-02          22   345104            CV23          0   \n",
       "6464  2023-08-02          22   345104         MCC5_10          2   \n",
       "\n",
       "     ROUTE_DIRECTION_NAME       SCHEDULED_TIME  ROUTE_STOP_SEQUENCE  \n",
       "0             TO DOWNTOWN  2023-08-01 04:42:00                 14.0  \n",
       "1             TO DOWNTOWN  2023-08-01 04:46:00                 10.0  \n",
       "2             TO DOWNTOWN  2023-08-01 04:54:00                  5.0  \n",
       "3             TO DOWNTOWN  2023-08-01 05:10:00                  1.0  \n",
       "6461          TO DOWNTOWN  2023-08-02 04:42:00                 14.0  \n",
       "6462          TO DOWNTOWN  2023-08-02 04:46:00                 10.0  \n",
       "6463          TO DOWNTOWN  2023-08-02 04:54:00                  5.0  \n",
       "6464          TO DOWNTOWN  2023-08-02 05:10:00                  1.0  "
      ]
     },
     "execution_count": 20,
     "metadata": {},
     "output_type": "execute_result"
    }
   ],
   "source": [
    "(\n",
    "    wego\n",
    "    .loc[wego['DATE'].astype(str).isin(['2023-08-01', '2023-08-02'])]\n",
    "    .loc[wego['TRIP_ID'] == 345104]\n",
    "    [['DATE', 'ROUTE_ABBR', 'TRIP_ID', 'TIME_POINT_ABBR', 'TRIP_EDGE', 'ROUTE_DIRECTION_NAME', 'SCHEDULED_TIME', 'ROUTE_STOP_SEQUENCE']]\n",
    ")"
   ]
  },
  {
   "cell_type": "markdown",
   "id": "dc96b71e",
   "metadata": {},
   "source": [
    "**Adherence** refers to the difference between scheduled time and the actual time that the bus departs from a stop.\n",
    "\n",
    "A negative value for ADHERENCE indicates that the bus is late, and a positive indicates that the bus is early.\n",
    "\n",
    "Generally, an adherence value less than -6 is considered late, and greater than 1 is considered early, but there are some exceptions. For example, a positive adherence for the end of a trip (TRIP_EDGE 2) is not considered early, since it is not a problem if a bus ends its trip early as long as it didn't pass other timepoints early along the way. You can check whether a trip was considered on-time, early, or late using the ADJUSTED_EARLY_COUNT, ADJUSTED_LATE_COUNT, and ADJUSTED_ONTIME_COUNT columns.\n",
    "\n",
    "Here is an example of a trip where all time points would be considered to be on time. Notice that at the end of the trip, the bus was more than 6 minutes early, but was still counted as on-time since this was a trip edge of 2."
   ]
  },
  {
   "cell_type": "code",
   "execution_count": 22,
   "id": "0db64947",
   "metadata": {},
   "outputs": [
    {
     "data": {
      "text/html": [
       "<div>\n",
       "<style scoped>\n",
       "    .dataframe tbody tr th:only-of-type {\n",
       "        vertical-align: middle;\n",
       "    }\n",
       "\n",
       "    .dataframe tbody tr th {\n",
       "        vertical-align: top;\n",
       "    }\n",
       "\n",
       "    .dataframe thead th {\n",
       "        text-align: right;\n",
       "    }\n",
       "</style>\n",
       "<table border=\"1\" class=\"dataframe\">\n",
       "  <thead>\n",
       "    <tr style=\"text-align: right;\">\n",
       "      <th></th>\n",
       "      <th>DATE</th>\n",
       "      <th>CALENDAR_ID</th>\n",
       "      <th>TRIP_ID</th>\n",
       "      <th>ROUTE_ABBR</th>\n",
       "      <th>TIME_POINT_ABBR</th>\n",
       "      <th>TRIP_EDGE</th>\n",
       "      <th>SCHEDULED_TIME</th>\n",
       "      <th>ACTUAL_DEPARTURE_TIME</th>\n",
       "      <th>ADHERENCE</th>\n",
       "      <th>ADJUSTED_EARLY_COUNT</th>\n",
       "      <th>ADJUSTED_LATE_COUNT</th>\n",
       "      <th>ADJUSTED_ONTIME_COUNT</th>\n",
       "    </tr>\n",
       "  </thead>\n",
       "  <tbody>\n",
       "    <tr>\n",
       "      <th>0</th>\n",
       "      <td>2023-08-01</td>\n",
       "      <td>120230801</td>\n",
       "      <td>345104</td>\n",
       "      <td>22</td>\n",
       "      <td>MHSP</td>\n",
       "      <td>1</td>\n",
       "      <td>2023-08-01 04:42:00</td>\n",
       "      <td>2023-08-01 04:44:08</td>\n",
       "      <td>-2.133333</td>\n",
       "      <td>0</td>\n",
       "      <td>0</td>\n",
       "      <td>1</td>\n",
       "    </tr>\n",
       "    <tr>\n",
       "      <th>1</th>\n",
       "      <td>2023-08-01</td>\n",
       "      <td>120230801</td>\n",
       "      <td>345104</td>\n",
       "      <td>22</td>\n",
       "      <td>ELIZ</td>\n",
       "      <td>0</td>\n",
       "      <td>2023-08-01 04:46:00</td>\n",
       "      <td>2023-08-01 04:48:27</td>\n",
       "      <td>-2.450000</td>\n",
       "      <td>0</td>\n",
       "      <td>0</td>\n",
       "      <td>1</td>\n",
       "    </tr>\n",
       "    <tr>\n",
       "      <th>2</th>\n",
       "      <td>2023-08-01</td>\n",
       "      <td>120230801</td>\n",
       "      <td>345104</td>\n",
       "      <td>22</td>\n",
       "      <td>CV23</td>\n",
       "      <td>0</td>\n",
       "      <td>2023-08-01 04:54:00</td>\n",
       "      <td>2023-08-01 04:54:56</td>\n",
       "      <td>-0.933333</td>\n",
       "      <td>0</td>\n",
       "      <td>0</td>\n",
       "      <td>1</td>\n",
       "    </tr>\n",
       "    <tr>\n",
       "      <th>3</th>\n",
       "      <td>2023-08-01</td>\n",
       "      <td>120230801</td>\n",
       "      <td>345104</td>\n",
       "      <td>22</td>\n",
       "      <td>MCC5_10</td>\n",
       "      <td>2</td>\n",
       "      <td>2023-08-01 05:10:00</td>\n",
       "      <td>2023-08-01 05:03:43</td>\n",
       "      <td>6.283333</td>\n",
       "      <td>0</td>\n",
       "      <td>0</td>\n",
       "      <td>1</td>\n",
       "    </tr>\n",
       "  </tbody>\n",
       "</table>\n",
       "</div>"
      ],
      "text/plain": [
       "         DATE  CALENDAR_ID  TRIP_ID  ROUTE_ABBR TIME_POINT_ABBR  TRIP_EDGE  \\\n",
       "0  2023-08-01    120230801   345104          22            MHSP          1   \n",
       "1  2023-08-01    120230801   345104          22            ELIZ          0   \n",
       "2  2023-08-01    120230801   345104          22            CV23          0   \n",
       "3  2023-08-01    120230801   345104          22         MCC5_10          2   \n",
       "\n",
       "        SCHEDULED_TIME ACTUAL_DEPARTURE_TIME  ADHERENCE  ADJUSTED_EARLY_COUNT  \\\n",
       "0  2023-08-01 04:42:00   2023-08-01 04:44:08  -2.133333                     0   \n",
       "1  2023-08-01 04:46:00   2023-08-01 04:48:27  -2.450000                     0   \n",
       "2  2023-08-01 04:54:00   2023-08-01 04:54:56  -0.933333                     0   \n",
       "3  2023-08-01 05:10:00   2023-08-01 05:03:43   6.283333                     0   \n",
       "\n",
       "   ADJUSTED_LATE_COUNT  ADJUSTED_ONTIME_COUNT  \n",
       "0                    0                      1  \n",
       "1                    0                      1  \n",
       "2                    0                      1  \n",
       "3                    0                      1  "
      ]
     },
     "execution_count": 22,
     "metadata": {},
     "output_type": "execute_result"
    }
   ],
   "source": [
    "(\n",
    "    wego\n",
    "    [[\n",
    "        'DATE', 'CALENDAR_ID', 'TRIP_ID', 'ROUTE_ABBR',\n",
    "        'TIME_POINT_ABBR', 'TRIP_EDGE',\n",
    "        'SCHEDULED_TIME', 'ACTUAL_DEPARTURE_TIME', 'ADHERENCE',\n",
    "        'ADJUSTED_EARLY_COUNT', 'ADJUSTED_LATE_COUNT', 'ADJUSTED_ONTIME_COUNT'\n",
    "    ]]\n",
    "    .loc[:3]\n",
    ")"
   ]
  },
  {
   "cell_type": "markdown",
   "id": "758953de",
   "metadata": {},
   "source": [
    "And one that has one late stop."
   ]
  },
  {
   "cell_type": "code",
   "execution_count": null,
   "id": "91e00bfe",
   "metadata": {},
   "outputs": [],
   "source": [
    "(\n",
    "    wego\n",
    "    [[\n",
    "        'DATE', 'CALENDAR_ID', 'TRIP_ID', 'ROUTE_ABBR',\n",
    "        'TIME_POINT_ABBR', 'TRIP_EDGE',\n",
    "        'SCHEDULED_TIME', 'ACTUAL_DEPARTURE_TIME', 'ADHERENCE',\n",
    "        'ADJUSTED_EARLY_COUNT', 'ADJUSTED_LATE_COUNT', 'ADJUSTED_ONTIME_COUNT'\n",
    "    ]]\n",
    "    .loc[77:79]\n",
    ")"
   ]
  },
  {
   "cell_type": "markdown",
   "id": "89920096",
   "metadata": {},
   "source": [
    "And one which was early."
   ]
  },
  {
   "cell_type": "code",
   "execution_count": null,
   "id": "7b83a32b",
   "metadata": {},
   "outputs": [],
   "source": [
    "(\n",
    "    wego\n",
    "    [[\n",
    "        'DATE', 'CALENDAR_ID', 'TRIP_ID', 'ROUTE_ABBR',\n",
    "        'TIME_POINT_ABBR', 'TRIP_EDGE',\n",
    "        'SCHEDULED_TIME', 'ACTUAL_DEPARTURE_TIME', 'ADHERENCE',\n",
    "        'ADJUSTED_EARLY_COUNT', 'ADJUSTED_LATE_COUNT', 'ADJUSTED_ONTIME_COUNT'\n",
    "    ]]\n",
    "    .loc[11:13]\n",
    ")"
   ]
  },
  {
   "cell_type": "markdown",
   "id": "ea228996",
   "metadata": {},
   "source": [
    "**Headway** is the amount of time between a bus and the prior bus at the same stop. In the dataset, the amount of headway scheduled is contained in the SCHEDULED_HDWY column and indicates the difference between the scheduled time for a particular stop and the scheduled time for the previous bus on that same stop.\n",
    "\n",
    "This dataset contains a column HDWY_DEV, which shows the amount of deviation from the scheduled headway. **Bunching** occurs when there is shorter headway than scheduled, which would appear as a negative HDWY_DEV value. **Gapping** is when there is more headway than scheduled and appears as a positive value in the HDWY_DEV column. Note that you can calculate headway deviation percentage as HDWY_DEV/SCHEDULED_HDWY. \n",
    "\n",
    "The generally accepted range of headway deviation is 50% to 150% of the scheduled headway, so if scheduled headway is 10 minutes, a headway deviation of up to 5 minutes would be acceptable (but not ideal)."
   ]
  },
  {
   "cell_type": "code",
   "execution_count": null,
   "id": "6774ccc0",
   "metadata": {},
   "outputs": [],
   "source": [
    "(\n",
    "    wego\n",
    "    .loc[wego['ROUTE_ABBR'] == 22]\n",
    "    .loc[wego['ROUTE_DIRECTION_NAME'] == 'TO DOWNTOWN']\n",
    "    .loc[wego['TIME_POINT_ABBR'] == 'CV23']\n",
    "    [['DATE', 'TRIP_ID', 'TIME_POINT_ABBR','ROUTE_DIRECTION_NAME', 'TRIP_EDGE', \n",
    "      'SCHEDULED_TIME', 'SCHEDULED_HDWY',\n",
    "      'ACTUAL_DEPARTURE_TIME', 'ACTUAL_HDWY', 'HDWY_DEV'\n",
    "     ]]\n",
    "    .sort_values(['DATE', 'SCHEDULED_TIME'])\n",
    "    .iloc[:5]\n",
    ")"
   ]
  },
  {
   "cell_type": "markdown",
   "id": "ccc3dc48",
   "metadata": {},
   "source": [
    "Two other columns that you've been asked to explore are the DWELL_IN_MINS column and SCHEDULED_LAYOVER_MINUTES, which shows the difference between actual arrival and actual departure time at a time point and the time a bus was scheduled to arrive at the time point and when it is scheduled to leave at the beginning of a trip.\n",
    "\n",
    "Here, we can see the end of the first trip in the dataset and the beginning of the next trip, which goes in the opposite direction."
   ]
  },
  {
   "cell_type": "code",
   "execution_count": null,
   "id": "6351e9b7",
   "metadata": {},
   "outputs": [],
   "source": [
    "wego.loc[3:4, ['DATE', 'TRIP_ID', 'TRIP_EDGE', 'TIME_POINT_ABBR',\n",
    "               'ACTUAL_ARRIVAL_TIME', 'ACTUAL_DEPARTURE_TIME', 'DWELL_IN_MINS', 'SCHEDULED_LAYOVER_MINUTES']]"
   ]
  }
 ],
 "metadata": {
  "kernelspec": {
   "display_name": "Python 3 (ipykernel)",
   "language": "python",
   "name": "python3"
  },
  "language_info": {
   "codemirror_mode": {
    "name": "ipython",
    "version": 3
   },
   "file_extension": ".py",
   "mimetype": "text/x-python",
   "name": "python",
   "nbconvert_exporter": "python",
   "pygments_lexer": "ipython3",
   "version": "3.12.4"
  }
 },
 "nbformat": 4,
 "nbformat_minor": 5
}
