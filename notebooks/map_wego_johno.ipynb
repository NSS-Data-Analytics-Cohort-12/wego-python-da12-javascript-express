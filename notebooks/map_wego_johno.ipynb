{
 "cells": [
  {
   "cell_type": "code",
   "execution_count": 1,
   "id": "a9b0762b",
   "metadata": {},
   "outputs": [],
   "source": [
    "import pandas as pd\n",
    "import seaborn as sns\n",
    "import matplotlib.pyplot as plt\n",
    "import geopandas as gpd\n",
    "import matplotlib.pyplot as plt\n",
    "import folium\n",
    "import requests\n",
    "from folium.plugins import MarkerCluster\n",
    "from folium.plugins import FastMarkerCluster"
   ]
  },
  {
   "cell_type": "code",
   "execution_count": 2,
   "id": "699ae2e1",
   "metadata": {},
   "outputs": [],
   "source": [
    "we_go = pd.read_csv('../data/partner_project_data.csv')"
   ]
  },
  {
   "cell_type": "code",
   "execution_count": 3,
   "id": "9a295c32",
   "metadata": {},
   "outputs": [],
   "source": [
    "new_frame = we_go[['DATE','ADHERENCE','HDWY_DEV','LATITUDE','LONGITUDE','OPERATOR','SCHEDULED_TIME',\n",
    "       'ACTUAL_ARRIVAL_TIME', 'ACTUAL_DEPARTURE_TIME']]"
   ]
  },
  {
   "cell_type": "code",
   "execution_count": 4,
   "id": "50220cb7",
   "metadata": {},
   "outputs": [],
   "source": [
    "new_frame_route22 = new_frame[new_frame['OPERATOR'].isin([1743, 2630, 3015, 1762, 2362])]"
   ]
  },
  {
   "cell_type": "code",
   "execution_count": 5,
   "id": "2c96aa77",
   "metadata": {},
   "outputs": [],
   "source": [
    "area_center = (36.14883, -86.73239)"
   ]
  },
  {
   "cell_type": "code",
   "execution_count": 6,
   "id": "3de8928c",
   "metadata": {},
   "outputs": [
    {
     "name": "stdout",
     "output_type": "stream",
     "text": [
      "index is 6086\n",
      "values are:\n",
      " \n",
      "DATE                              2023-08-01\n",
      "ADHERENCE                          -1.383333\n",
      "HDWY_DEV                            1.016666\n",
      "LATITUDE                            36.30047\n",
      "LONGITUDE                          -86.69561\n",
      "OPERATOR                                1743\n",
      "SCHEDULED_TIME           2023-08-01 11:03:00\n",
      "ACTUAL_ARRIVAL_TIME      2023-08-01 10:51:57\n",
      "ACTUAL_DEPARTURE_TIME    2023-08-01 11:04:23\n",
      "Name: 6086, dtype: object\n",
      "------------------------- \n",
      "index is 6087\n",
      "values are:\n",
      " \n",
      "DATE                              2023-08-01\n",
      "ADHERENCE                          -0.033333\n",
      "HDWY_DEV                               -0.65\n",
      "LATITUDE                           36.257412\n",
      "LONGITUDE                         -86.714068\n",
      "OPERATOR                                1743\n",
      "SCHEDULED_TIME           2023-08-01 11:15:00\n",
      "ACTUAL_ARRIVAL_TIME      2023-08-01 11:15:02\n",
      "ACTUAL_DEPARTURE_TIME    2023-08-01 11:15:02\n",
      "Name: 6087, dtype: object\n",
      "------------------------- \n",
      "index is 6088\n",
      "values are:\n",
      " \n",
      "DATE                              2023-08-01\n",
      "ADHERENCE                           0.483333\n",
      "HDWY_DEV                           -0.583334\n",
      "LATITUDE                           36.210362\n",
      "LONGITUDE                         -86.733625\n",
      "OPERATOR                                1743\n",
      "SCHEDULED_TIME           2023-08-01 11:25:00\n",
      "ACTUAL_ARRIVAL_TIME      2023-08-01 11:24:31\n",
      "ACTUAL_DEPARTURE_TIME    2023-08-01 11:24:31\n",
      "Name: 6088, dtype: object\n",
      "------------------------- \n"
     ]
    }
   ],
   "source": [
    "i = 0\n",
    "for row_index, row_values in new_frame_route22.iterrows():\n",
    "    if i <3: \n",
    "        print('index is', row_index)\n",
    "        print('values are:')\n",
    "        print(' ')\n",
    "        print(row_values)\n",
    "        print('------------------------- ')\n",
    "        i+=1"
   ]
  },
  {
   "cell_type": "markdown",
   "id": "a432e75e",
   "metadata": {
    "scrolled": true
   },
   "source": [
    "#draw our zip code area: 37207\n",
    "publicartmap = folium.Map(location =  area_center, zoom_start = 12)\n",
    "\n",
    "#folium.GeoJson(polygonpublicart).add_to(publicartmap)\n",
    "\n",
    "#publicartzipurl = 'https://raw.githubusercontent.com/OpenDataDE/State-zip-code-GeoJSON/master/tn_tennessee_zip_codes_geo.min.json'\n",
    "#publicartzip = requests.get(publicartzipurl).json()\n",
    "#folium.GeoJson(publicartzip, name='ZipCode').add_to(publicartmap)\n",
    "#iterate through stops_in_37207 to create locations and markers \n",
    "#for each bus stop\n",
    "#remember for Folium locations, lat is listed first!!\n",
    "\n",
    "for row_index, row_values in new_frame_route22.iterrows():\n",
    "    loc = [row_values['LATITUDE'], row_values['LONGITUDE']]\n",
    "    pop = f\"Scheduled_Time: {row_values['SCHEDULED_TIME']}<br>Arrival_Time:{row_values['ACTUAL_ARRIVAL_TIME']}<br>Departure_Time:{row_values['ACTUAL_DEPARTURE_TIME']}<br>Adherence:{row_values['ADHERENCE']}\"\n",
    "    icon=folium.Icon(color=\"orange\",icon=\"bus\", prefix='fa')\n",
    "    \n",
    "    marker = folium.Marker(\n",
    "        location = loc, \n",
    "        popup = pop, icon = icon) \n",
    "\n",
    "    marker.add_to(publicartmap)\n",
    "#map_37207.save('../maps/map37207.html')\n",
    "\n",
    "#display our map\n",
    "publicartmap"
   ]
  },
  {
   "cell_type": "markdown",
   "id": "139f3498",
   "metadata": {},
   "source": [
    "publicartzipurl = 'https://raw.githubusercontent.com/OpenDataDE/State-zip-code-GeoJSON/master/tn_tennessee_zip_codes_geo.min.json'\n",
    "publicartzip = requests.get(publicartzipurl).json()\n",
    "\n",
    "# Create map with specified size\n",
    "publicartmap = folium.Map(location=area_center, zoom_start=12, width='80%', height='80%')\n",
    "\n",
    "\n",
    "folium.GeoJson(publicartzip, name='ZipCode').add_to(publicartmap)\n",
    "\n",
    "# Iterate through stops and create markers\n",
    "for row_index, row_values in new_frame_route22.iterrows():\n",
    "    loc = [row_values['LATITUDE'], row_values['LONGITUDE']]\n",
    "    pop = f\"Scheduled_Time: {row_values['SCHEDULED_TIME']}<br>Arrival_Time:{row_values['ACTUAL_ARRIVAL_TIME']}<br>Departure_Time:{row_values['ACTUAL_DEPARTURE_TIME']}<br>Adherence:{row_values['ADHERENCE']}\"\n",
    "    icon = folium.Icon(color=\"orange\", icon=\"bus\", prefix='fa')\n",
    "    \n",
    "    marker = folium.Marker(location=loc, popup=pop, icon=icon)\n",
    "    marker.add_to(publicartmap)\n",
    "\n",
    "# Save and display the map\n",
    "#publicartmap.save('../maps/map37207.html')\n",
    "publicartmap"
   ]
  },
  {
   "cell_type": "code",
   "execution_count": 8,
   "id": "bad2d43e",
   "metadata": {},
   "outputs": [],
   "source": [
    "busmap = folium.Map(location=[36.3, -86.7], zoom_start=12, width='80%', height='80%')\n",
    "\n",
    "# Group by operator\n",
    "grouped = new_frame_route22.groupby('OPERATOR')\n",
    "\n",
    "# Define colors for different operators\n",
    "colors = ['blue', 'green', 'red', 'purple', 'orange']\n",
    "\n",
    "# Iterate through each group\n",
    "for i, (operator, group) in enumerate(grouped):\n",
    "    points = []\n",
    "    for row_index, row_values in group.iterrows():\n",
    "        loc = [row_values['LATITUDE'], row_values['LONGITUDE']]\n",
    "        points.append(loc)  # Add the location to the points list\n",
    "        pop = f\"Scheduled_Time: {row_values['SCHEDULED_TIME']}<br>Arrival_Time:{row_values['ACTUAL_ARRIVAL_TIME']}<br>Departure_Time:{row_values['ACTUAL_DEPARTURE_TIME']}<br>Adherence:{row_values['ADHERENCE']}\"\n",
    "        icon = folium.Icon(color=\"orange\", icon=\"bus\", prefix='fa')\n",
    "        \n",
    "        marker = folium.Marker(location=loc, popup=pop, icon=icon)\n",
    "        marker.add_to(busmap)\n",
    "    \n",
    "    # Add the PolyLine to trace the route for each operator\n",
    "    folium.PolyLine(points, color=colors[i % len(colors)], weight=2.5, opacity=1).add_to(busmap)\n",
    "\n",
    "# Display the map\n",
    "busmap\n",
    "busmap.save('busmap.html')"
   ]
  },
  {
   "cell_type": "code",
   "execution_count": null,
   "id": "053ed99a",
   "metadata": {},
   "outputs": [],
   "source": []
  }
 ],
 "metadata": {
  "kernelspec": {
   "display_name": "Python 3 (ipykernel)",
   "language": "python",
   "name": "python3"
  },
  "language_info": {
   "codemirror_mode": {
    "name": "ipython",
    "version": 3
   },
   "file_extension": ".py",
   "mimetype": "text/x-python",
   "name": "python",
   "nbconvert_exporter": "python",
   "pygments_lexer": "ipython3",
   "version": "3.11.5"
  }
 },
 "nbformat": 4,
 "nbformat_minor": 5
}
